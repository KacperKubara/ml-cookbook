{
  "nbformat": 4,
  "nbformat_minor": 0,
  "metadata": {
    "colab": {
      "name": "solubility.ipynb",
      "provenance": [],
      "collapsed_sections": [],
      "authorship_tag": "ABX9TyM4xygC2Ed+N/pNX+FwTjJ0",
      "include_colab_link": false
    },
    "kernelspec": {
      "name": "python3",
      "display_name": "Python 3"
    }
  },
  "cells": [
    {
      "cell_type": "markdown",
      "metadata": {
        "id": "view-in-github",
        "colab_type": "text"
      },
      "source": [
        "<a href=\"https://colab.research.google.com/github/KacperKubara/ml-cookbook/blob/master/solubility.ipynb\" target=\"_parent\"><img src=\"https://colab.research.google.com/assets/colab-badge.svg\" alt=\"Open In Colab\"/></a>"
      ]
    },
    {
      "cell_type": "markdown",
      "metadata": {
        "id": "_-Hkmq6woHCE",
        "colab_type": "text"
      },
      "source": [
        "Please click below to open this notebook with colab.\n",
        "\n",
        "[![Open In Colab](https://colab.research.google.com/assets/colab-badge.svg)](https://colab.research.google.com/drive/1r3QAoLsI-k6se1EubeepUs8p0Bqvapb_?usp=sharing)\n",
        "\n",
        "The Deepchem and dataset setup below was taken from the official tutorial: [link ](https://github.com/deepchem/deepchem/blob/master/examples/tutorials/03_Modeling_Solubility.ipynb)"
      ]
    },
    {
      "cell_type": "code",
      "metadata": {
        "id": "3Y2I9ylVoGfN",
        "colab_type": "code",
        "colab": {
          "base_uri": "https://localhost:8080/",
          "height": 319
        },
        "outputId": "614dfb6b-601f-4926-9204-35f8dbc50e01"
      },
      "source": [
        "# Installing conda\n",
        "!curl -Lo conda_installer.py https://raw.githubusercontent.com/deepchem/deepchem/master/scripts/colab_install.py\n",
        "import conda_installer\n",
        "conda_installer.install()\n",
        "!/root/miniconda/bin/conda info -e"
      ],
      "execution_count": null,
      "outputs": [
        {
          "output_type": "stream",
          "text": [
            "  % Total    % Received % Xferd  Average Speed   Time    Time     Time  Current\n",
            "                                 Dload  Upload   Total   Spent    Left  Speed\n",
            "\r  0     0    0     0    0     0      0      0 --:--:-- --:--:-- --:--:--     0\r100  3490  100  3490    0     0  20773      0 --:--:-- --:--:-- --:--:-- 20898\n"
          ],
          "name": "stdout"
        },
        {
          "output_type": "stream",
          "text": [
            "add /root/miniconda/lib/python3.6/site-packages to PYTHONPATH\n",
            "python version: 3.6.9\n",
            "fetching installer from https://repo.continuum.io/miniconda/Miniconda3-latest-Linux-x86_64.sh\n",
            "done\n",
            "installing miniconda to /root/miniconda\n",
            "done\n",
            "installing rdkit, openmm, pdbfixer\n",
            "added conda-forge to channels\n",
            "added omnia to channels\n",
            "done\n",
            "conda packages installation finished!\n"
          ],
          "name": "stderr"
        },
        {
          "output_type": "stream",
          "text": [
            "# conda environments:\n",
            "#\n",
            "base                  *  /root/miniconda\n",
            "\n"
          ],
          "name": "stdout"
        }
      ]
    },
    {
      "cell_type": "code",
      "metadata": {
        "id": "PqG_49beo8uj",
        "colab_type": "code",
        "colab": {
          "base_uri": "https://localhost:8080/",
          "height": 358
        },
        "outputId": "91737264-e29c-4690-b758-ac9e4e9d1a3e"
      },
      "source": [
        "# Installing Deepchem\n",
        "!pip install --pre deepchem\n",
        "import deepchem\n",
        "deepchem.__version__"
      ],
      "execution_count": null,
      "outputs": [
        {
          "output_type": "stream",
          "text": [
            "Collecting deepchem\n",
            "\u001b[?25l  Downloading https://files.pythonhosted.org/packages/5d/15/bc4f959ad4900875c28427b44196d645df06bdfebe669a6a4452d184b6f3/deepchem-2.4.0rc1.dev20200816062845.tar.gz (366kB)\n",
            "\r\u001b[K     |█                               | 10kB 17.0MB/s eta 0:00:01\r\u001b[K     |█▉                              | 20kB 2.1MB/s eta 0:00:01\r\u001b[K     |██▊                             | 30kB 2.7MB/s eta 0:00:01\r\u001b[K     |███▋                            | 40kB 3.0MB/s eta 0:00:01\r\u001b[K     |████▌                           | 51kB 2.4MB/s eta 0:00:01\r\u001b[K     |█████▍                          | 61kB 2.7MB/s eta 0:00:01\r\u001b[K     |██████▎                         | 71kB 3.0MB/s eta 0:00:01\r\u001b[K     |███████▏                        | 81kB 3.2MB/s eta 0:00:01\r\u001b[K     |████████                        | 92kB 3.4MB/s eta 0:00:01\r\u001b[K     |█████████                       | 102kB 3.3MB/s eta 0:00:01\r\u001b[K     |█████████▉                      | 112kB 3.3MB/s eta 0:00:01\r\u001b[K     |██████████▊                     | 122kB 3.3MB/s eta 0:00:01\r\u001b[K     |███████████▋                    | 133kB 3.3MB/s eta 0:00:01\r\u001b[K     |████████████▌                   | 143kB 3.3MB/s eta 0:00:01\r\u001b[K     |█████████████▍                  | 153kB 3.3MB/s eta 0:00:01\r\u001b[K     |██████████████▎                 | 163kB 3.3MB/s eta 0:00:01\r\u001b[K     |███████████████▏                | 174kB 3.3MB/s eta 0:00:01\r\u001b[K     |████████████████                | 184kB 3.3MB/s eta 0:00:01\r\u001b[K     |█████████████████               | 194kB 3.3MB/s eta 0:00:01\r\u001b[K     |█████████████████▉              | 204kB 3.3MB/s eta 0:00:01\r\u001b[K     |██████████████████▊             | 215kB 3.3MB/s eta 0:00:01\r\u001b[K     |███████████████████▋            | 225kB 3.3MB/s eta 0:00:01\r\u001b[K     |████████████████████▌           | 235kB 3.3MB/s eta 0:00:01\r\u001b[K     |█████████████████████▍          | 245kB 3.3MB/s eta 0:00:01\r\u001b[K     |██████████████████████▎         | 256kB 3.3MB/s eta 0:00:01\r\u001b[K     |███████████████████████▏        | 266kB 3.3MB/s eta 0:00:01\r\u001b[K     |████████████████████████▏       | 276kB 3.3MB/s eta 0:00:01\r\u001b[K     |█████████████████████████       | 286kB 3.3MB/s eta 0:00:01\r\u001b[K     |██████████████████████████      | 296kB 3.3MB/s eta 0:00:01\r\u001b[K     |██████████████████████████▉     | 307kB 3.3MB/s eta 0:00:01\r\u001b[K     |███████████████████████████▊    | 317kB 3.3MB/s eta 0:00:01\r\u001b[K     |████████████████████████████▋   | 327kB 3.3MB/s eta 0:00:01\r\u001b[K     |█████████████████████████████▌  | 337kB 3.3MB/s eta 0:00:01\r\u001b[K     |██████████████████████████████▍ | 348kB 3.3MB/s eta 0:00:01\r\u001b[K     |███████████████████████████████▎| 358kB 3.3MB/s eta 0:00:01\r\u001b[K     |████████████████████████████████| 368kB 3.3MB/s \n",
            "\u001b[?25hRequirement already satisfied: joblib in /usr/local/lib/python3.6/dist-packages (from deepchem) (0.16.0)\n",
            "Requirement already satisfied: numpy in /usr/local/lib/python3.6/dist-packages (from deepchem) (1.18.5)\n",
            "Requirement already satisfied: pandas in /usr/local/lib/python3.6/dist-packages (from deepchem) (1.0.5)\n",
            "Requirement already satisfied: scikit-learn in /usr/local/lib/python3.6/dist-packages (from deepchem) (0.22.2.post1)\n",
            "Requirement already satisfied: scipy in /usr/local/lib/python3.6/dist-packages (from deepchem) (1.4.1)\n",
            "Requirement already satisfied: pytz>=2017.2 in /usr/local/lib/python3.6/dist-packages (from pandas->deepchem) (2018.9)\n",
            "Requirement already satisfied: python-dateutil>=2.6.1 in /usr/local/lib/python3.6/dist-packages (from pandas->deepchem) (2.8.1)\n",
            "Requirement already satisfied: six>=1.5 in /usr/local/lib/python3.6/dist-packages (from python-dateutil>=2.6.1->pandas->deepchem) (1.15.0)\n",
            "Building wheels for collected packages: deepchem\n",
            "  Building wheel for deepchem (setup.py) ... \u001b[?25l\u001b[?25hdone\n",
            "  Created wheel for deepchem: filename=deepchem-2.4.0rc1.dev20200817133934-cp36-none-any.whl size=455353 sha256=c80a28aae0fc923d9bd4d4db02e629dc3acbc95f0ac91aab91fdfa83ed435bb2\n",
            "  Stored in directory: /root/.cache/pip/wheels/8d/e5/2d/43781f469c117068b5c24d1f169e1e687dba237cc951ea6eb6\n",
            "Successfully built deepchem\n",
            "Installing collected packages: deepchem\n",
            "Successfully installed deepchem-2.4.0rc1.dev20200817133934\n"
          ],
          "name": "stdout"
        },
        {
          "output_type": "execute_result",
          "data": {
            "application/vnd.google.colaboratory.intrinsic+json": {
              "type": "string"
            },
            "text/plain": [
              "'2.4.0-rc1.dev'"
            ]
          },
          "metadata": {
            "tags": []
          },
          "execution_count": 1
        }
      ]
    },
    {
      "cell_type": "code",
      "metadata": {
        "id": "eGgnMlfao_7c",
        "colab_type": "code",
        "colab": {
          "base_uri": "https://localhost:8080/",
          "height": 272
        },
        "outputId": "08b7377c-acb6-47ac-c942-f65b31b64ade"
      },
      "source": [
        "# Getting the delaney dataset\n",
        "!wget https://raw.githubusercontent.com/deepchem/deepchem/master/datasets/delaney-processed.csv\n",
        "from deepchem.utils.save import load_from_disk\n",
        "dataset_file= \"delaney-processed.csv\"\n",
        "\n",
        "# Loading the data from the CSV file\n",
        "loader = deepchem.data.CSVLoader(tasks=[\"ESOL predicted log solubility in mols per litre\"], \n",
        "                                 smiles_field=\"smiles\", \n",
        "                                 featurizer=deepchem.feat.ConvMolFeaturizer())\n",
        "# Featurizing the dataset with ConvMolFeaturizer\n",
        "dataset = loader.featurize(dataset_file)"
      ],
      "execution_count": null,
      "outputs": [
        {
          "output_type": "stream",
          "text": [
            "--2020-08-17 16:23:03--  https://raw.githubusercontent.com/deepchem/deepchem/master/datasets/delaney-processed.csv\n",
            "Resolving raw.githubusercontent.com (raw.githubusercontent.com)... 151.101.0.133, 151.101.64.133, 151.101.128.133, ...\n",
            "Connecting to raw.githubusercontent.com (raw.githubusercontent.com)|151.101.0.133|:443... connected.\n",
            "HTTP request sent, awaiting response... 200 OK\n",
            "Length: 96699 (94K) [text/plain]\n",
            "Saving to: ‘delaney-processed.csv.6’\n",
            "\n",
            "\rdelaney-processed.c   0%[                    ]       0  --.-KB/s               \rdelaney-processed.c 100%[===================>]  94.43K  --.-KB/s    in 0.03s   \n",
            "\n",
            "2020-08-17 16:23:04 (3.67 MB/s) - ‘delaney-processed.csv.6’ saved [96699/96699]\n",
            "\n"
          ],
          "name": "stdout"
        },
        {
          "output_type": "stream",
          "text": [
            "smiles_field is deprecated and will be removed in a future version of DeepChem. Use feature_field instead.\n",
            "/usr/local/lib/python3.6/dist-packages/deepchem/data/data_loader.py:198: FutureWarning: featurize() is deprecated and has been renamed to create_dataset(). featurize() will be removed in DeepChem 3.0\n",
            "  FutureWarning)\n"
          ],
          "name": "stderr"
        }
      ]
    },
    {
      "cell_type": "code",
      "metadata": {
        "id": "9xDbW2A4p0l8",
        "colab_type": "code",
        "colab": {}
      },
      "source": [
        "    # Splitter splits the dataset \n",
        "    # In this case it's is an equivalent of train_test_split from sklearn\n",
        "    splitter = deepchem.splits.RandomSplitter()\n",
        "    # frac_test is 0.01 because we only use a train and valid as an example\n",
        "    train, valid, _ = splitter.train_valid_test_split(dataset,\n",
        "                                                      frac_train=0.7,\n",
        "                                                      frac_valid=0.29,\n",
        "                                                      frac_test=0.01)\n",
        "    # Normalizer will normalize y values in the dataset\n",
        "    normalizer = deepchem.trans.NormalizationTransformer(transform_y=True, \n",
        "                                                         dataset=train, \n",
        "                                                         move_mean=True)\n",
        "    train = normalizer.transform(train)\n",
        "    test = normalizer.transform(valid)"
      ],
      "execution_count": null,
      "outputs": []
    },
    {
      "cell_type": "code",
      "metadata": {
        "id": "YRJfuytXJacS",
        "colab_type": "code",
        "colab": {
          "base_uri": "https://localhost:8080/",
          "height": 101
        },
        "outputId": "dcbe0d95-a8b7-4b74-baee-a2452f0f3615"
      },
      "source": [
        "print(f\"Size of the training data: {len(train.ids)}\")\n",
        "print(f\"Size of the validation data: {len(valid.ids)}\")\n",
        "print(test)"
      ],
      "execution_count": null,
      "outputs": [
        {
          "output_type": "stream",
          "text": [
            "Size of the training data: 789\n",
            "Size of the validation data: 327\n",
            "<DiskDataset X.shape: (327,), y.shape: (327, 1), w.shape: (327, 1), ids: ['CC(C)=CCCC(C)=CC(=O)' 'Clc1cc(Cl)c(c(Cl)c1)c2c(Cl)cccc2Cl'\n",
            " 'ClC4=C(Cl)C5(Cl)C3C1CC(C2OC12)C3C4(Cl)C5(Cl)Cl' ... 'CC(C)C(C)(C)C'\n",
            " 'CCC(C)C' 'COP(=O)(OC)OC(=CCl)c1cc(Cl)c(Cl)cc1Cl'], task_names: ['ESOL predicted log solubility in mols per litre']>\n"
          ],
          "name": "stdout"
        }
      ]
    },
    {
      "cell_type": "code",
      "metadata": {
        "id": "6NKyzDA-JlXY",
        "colab_type": "code",
        "colab": {}
      },
      "source": [
        "# GraphConvModel is a GNN model based on \n",
        "# Duvenaud, David K., et al. \"Convolutional networks on graphs for\n",
        "# learning molecular fingerprints.\"\n",
        "from deepchem.models import GraphConvModel\n",
        "graph_conv = GraphConvModel(1,\n",
        "                            batch_size=50,\n",
        "                            mode=\"regression\")\n",
        "# Defining metric. Closer to 1 is better\n",
        "metric = deepchem.metrics.Metric(deepchem.metrics.pearson_r2_score)\n"
      ],
      "execution_count": null,
      "outputs": []
    },
    {
      "cell_type": "code",
      "metadata": {
        "id": "7HRwydQ0K34F",
        "colab_type": "code",
        "colab": {
          "base_uri": "https://localhost:8080/",
          "height": 87
        },
        "outputId": "c427ec36-9514-43e9-a591-76d9f58c2d3e"
      },
      "source": [
        "# Fitting the model\n",
        "graph_conv.fit(train, nb_epoch=10)"
      ],
      "execution_count": null,
      "outputs": [
        {
          "output_type": "stream",
          "text": [
            "/usr/local/lib/python3.6/dist-packages/tensorflow/python/framework/indexed_slices.py:432: UserWarning: Converting sparse IndexedSlices to a dense Tensor of unknown shape. This may consume a large amount of memory.\n",
            "  \"Converting sparse IndexedSlices to a dense Tensor of unknown shape. \"\n"
          ],
          "name": "stderr"
        },
        {
          "output_type": "execute_result",
          "data": {
            "text/plain": [
              "0.16994555791219076"
            ]
          },
          "metadata": {
            "tags": []
          },
          "execution_count": 47
        }
      ]
    },
    {
      "cell_type": "code",
      "metadata": {
        "id": "rMrQHy7ELE1T",
        "colab_type": "code",
        "colab": {
          "base_uri": "https://localhost:8080/",
          "height": 84
        },
        "outputId": "f18f26c8-040e-478e-e561-f6b7405c185c"
      },
      "source": [
        "# Reversing the transformation and getting the metric scores on 2 datasets\n",
        "train_scores = graph_conv.evaluate(train, [metric], [normalizer])\n",
        "valid_scores = graph_conv.evaluate(valid, [metric], [normalizer])\n",
        "print(f\"Train Scores: {train_scores}\")\n",
        "print(f\"Validation Scores: {valid_scores}\")"
      ],
      "execution_count": null,
      "outputs": [
        {
          "output_type": "stream",
          "text": [
            "n_samples is a deprecated argument which is ignored.\n",
            "n_samples is a deprecated argument which is ignored.\n"
          ],
          "name": "stderr"
        },
        {
          "output_type": "stream",
          "text": [
            "Train Scores: {'pearson_r2_score': 0.6639371596233589}\n",
            "Validation Scores: {'pearson_r2_score': 0.4961263318150533}\n"
          ],
          "name": "stdout"
        }
      ]
    }
  ]
}
