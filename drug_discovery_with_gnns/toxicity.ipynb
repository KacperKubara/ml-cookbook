{
  "nbformat": 4,
  "nbformat_minor": 0,
  "metadata": {
    "colab": {
      "name": "toxicity.ipynb",
      "provenance": []
    },
    "kernelspec": {
      "name": "python3",
      "display_name": "Python 3"
    }
  },
  "cells": [
    {
      "cell_type": "markdown",
      "metadata": {
        "id": "oia4DCDpaXKA",
        "colab_type": "text"
      },
      "source": [
        "# Toxicity Prediction using Deepchem - Demo\n",
        "\n",
        "The Deepchem and dataset setup below was taken from the official tutorial: [link ](https://github.com/deepchem/deepchem/blob/master/examples/tutorials/03_Modeling_Solubility.ipynb)\n",
        "\n",
        "The code is a modified version of this [file](https://github.com/deepchem/deepchem/blob/master/examples/tox21/tox21_tensorgraph_graph_conv.py)."
      ]
    },
    {
      "cell_type": "code",
      "metadata": {
        "id": "9va87VGba0Hk",
        "colab_type": "code",
        "colab": {
          "base_uri": "https://localhost:8080/",
          "height": 339
        },
        "outputId": "80aa9a20-826b-436a-ddb1-5cfb4678c51f"
      },
      "source": [
        "# Installing conda\n",
        "!curl -Lo conda_installer.py https://raw.githubusercontent.com/deepchem/deepchem/master/scripts/colab_install.py\n",
        "import conda_installer\n",
        "conda_installer.install()\n",
        "!/root/miniconda/bin/conda info -e"
      ],
      "execution_count": 1,
      "outputs": [
        {
          "output_type": "stream",
          "text": [
            "  % Total    % Received % Xferd  Average Speed   Time    Time     Time  Current\n",
            "                                 Dload  Upload   Total   Spent    Left  Speed\n",
            "\r  0     0    0     0    0     0      0      0 --:--:-- --:--:-- --:--:--     0\r100  3490  100  3490    0     0  16462      0 --:--:-- --:--:-- --:--:-- 16462\n"
          ],
          "name": "stdout"
        },
        {
          "output_type": "stream",
          "text": [
            "add /root/miniconda/lib/python3.6/site-packages to PYTHONPATH\n",
            "python version: 3.6.9\n",
            "fetching installer from https://repo.continuum.io/miniconda/Miniconda3-latest-Linux-x86_64.sh\n",
            "done\n",
            "installing miniconda to /root/miniconda\n",
            "done\n",
            "installing rdkit, openmm, pdbfixer\n",
            "added conda-forge to channels\n",
            "added omnia to channels\n",
            "done\n",
            "conda packages installation finished!\n"
          ],
          "name": "stderr"
        },
        {
          "output_type": "stream",
          "text": [
            "# conda environments:\n",
            "#\n",
            "base                  *  /root/miniconda\n",
            "\n"
          ],
          "name": "stdout"
        }
      ]
    },
    {
      "cell_type": "code",
      "metadata": {
        "id": "MyPiGA7qa7dZ",
        "colab_type": "code",
        "colab": {
          "base_uri": "https://localhost:8080/",
          "height": 358
        },
        "outputId": "b718cfa7-fac8-4bb4-cda0-0da257d2976e"
      },
      "source": [
        "# Installing Deepchem\n",
        "!pip install --pre deepchem\n",
        "# Import deepchem just to check the version\n",
        "import deepchem\n",
        "deepchem.__version__"
      ],
      "execution_count": 2,
      "outputs": [
        {
          "output_type": "stream",
          "text": [
            "Collecting deepchem\n",
            "\u001b[?25l  Downloading https://files.pythonhosted.org/packages/c1/f3/e64bdcce3ce322a96f84147927f320b595586b05a2bc0769882da37063a6/deepchem-2.4.0rc1.dev20200820180452.tar.gz (373kB)\n",
            "\r\u001b[K     |▉                               | 10kB 22.4MB/s eta 0:00:01\r\u001b[K     |█▊                              | 20kB 6.2MB/s eta 0:00:01\r\u001b[K     |██▋                             | 30kB 7.3MB/s eta 0:00:01\r\u001b[K     |███▌                            | 40kB 8.0MB/s eta 0:00:01\r\u001b[K     |████▍                           | 51kB 6.7MB/s eta 0:00:01\r\u001b[K     |█████▎                          | 61kB 7.1MB/s eta 0:00:01\r\u001b[K     |██████▏                         | 71kB 7.6MB/s eta 0:00:01\r\u001b[K     |███████                         | 81kB 8.1MB/s eta 0:00:01\r\u001b[K     |███████▉                        | 92kB 7.5MB/s eta 0:00:01\r\u001b[K     |████████▊                       | 102kB 7.8MB/s eta 0:00:01\r\u001b[K     |█████████▋                      | 112kB 7.8MB/s eta 0:00:01\r\u001b[K     |██████████▌                     | 122kB 7.8MB/s eta 0:00:01\r\u001b[K     |███████████▍                    | 133kB 7.8MB/s eta 0:00:01\r\u001b[K     |████████████▎                   | 143kB 7.8MB/s eta 0:00:01\r\u001b[K     |█████████████▏                  | 153kB 7.8MB/s eta 0:00:01\r\u001b[K     |██████████████                  | 163kB 7.8MB/s eta 0:00:01\r\u001b[K     |███████████████                 | 174kB 7.8MB/s eta 0:00:01\r\u001b[K     |███████████████▊                | 184kB 7.8MB/s eta 0:00:01\r\u001b[K     |████████████████▋               | 194kB 7.8MB/s eta 0:00:01\r\u001b[K     |█████████████████▌              | 204kB 7.8MB/s eta 0:00:01\r\u001b[K     |██████████████████▍             | 215kB 7.8MB/s eta 0:00:01\r\u001b[K     |███████████████████▎            | 225kB 7.8MB/s eta 0:00:01\r\u001b[K     |████████████████████▏           | 235kB 7.8MB/s eta 0:00:01\r\u001b[K     |█████████████████████           | 245kB 7.8MB/s eta 0:00:01\r\u001b[K     |██████████████████████          | 256kB 7.8MB/s eta 0:00:01\r\u001b[K     |██████████████████████▉         | 266kB 7.8MB/s eta 0:00:01\r\u001b[K     |███████████████████████▋        | 276kB 7.8MB/s eta 0:00:01\r\u001b[K     |████████████████████████▌       | 286kB 7.8MB/s eta 0:00:01\r\u001b[K     |█████████████████████████▍      | 296kB 7.8MB/s eta 0:00:01\r\u001b[K     |██████████████████████████▎     | 307kB 7.8MB/s eta 0:00:01\r\u001b[K     |███████████████████████████▏    | 317kB 7.8MB/s eta 0:00:01\r\u001b[K     |████████████████████████████    | 327kB 7.8MB/s eta 0:00:01\r\u001b[K     |█████████████████████████████   | 337kB 7.8MB/s eta 0:00:01\r\u001b[K     |█████████████████████████████▉  | 348kB 7.8MB/s eta 0:00:01\r\u001b[K     |██████████████████████████████▊ | 358kB 7.8MB/s eta 0:00:01\r\u001b[K     |███████████████████████████████▌| 368kB 7.8MB/s eta 0:00:01\r\u001b[K     |████████████████████████████████| 378kB 7.8MB/s \n",
            "\u001b[?25hRequirement already satisfied: joblib in /usr/local/lib/python3.6/dist-packages (from deepchem) (0.16.0)\n",
            "Requirement already satisfied: numpy in /usr/local/lib/python3.6/dist-packages (from deepchem) (1.18.5)\n",
            "Requirement already satisfied: pandas in /usr/local/lib/python3.6/dist-packages (from deepchem) (1.0.5)\n",
            "Requirement already satisfied: scikit-learn in /usr/local/lib/python3.6/dist-packages (from deepchem) (0.22.2.post1)\n",
            "Requirement already satisfied: scipy in /usr/local/lib/python3.6/dist-packages (from deepchem) (1.4.1)\n",
            "Requirement already satisfied: python-dateutil>=2.6.1 in /usr/local/lib/python3.6/dist-packages (from pandas->deepchem) (2.8.1)\n",
            "Requirement already satisfied: pytz>=2017.2 in /usr/local/lib/python3.6/dist-packages (from pandas->deepchem) (2018.9)\n",
            "Requirement already satisfied: six>=1.5 in /usr/local/lib/python3.6/dist-packages (from python-dateutil>=2.6.1->pandas->deepchem) (1.15.0)\n",
            "Building wheels for collected packages: deepchem\n",
            "  Building wheel for deepchem (setup.py) ... \u001b[?25l\u001b[?25hdone\n",
            "  Created wheel for deepchem: filename=deepchem-2.4.0rc1.dev20200823130651-cp36-none-any.whl size=468239 sha256=6e2887a5fdc258e4fe10331d472082edb503d23e5df8e30a6e4d192e3e03990d\n",
            "  Stored in directory: /root/.cache/pip/wheels/e7/9c/89/a8b8a7d0ccecc6e7e0188f357657802c0f0b0b8836962d69cc\n",
            "Successfully built deepchem\n",
            "Installing collected packages: deepchem\n",
            "Successfully installed deepchem-2.4.0rc1.dev20200823130651\n"
          ],
          "name": "stdout"
        },
        {
          "output_type": "execute_result",
          "data": {
            "application/vnd.google.colaboratory.intrinsic+json": {
              "type": "string"
            },
            "text/plain": [
              "'2.4.0-rc1.dev'"
            ]
          },
          "metadata": {
            "tags": []
          },
          "execution_count": 2
        }
      ]
    },
    {
      "cell_type": "code",
      "metadata": {
        "id": "CuubN3RVa9Pr",
        "colab_type": "code",
        "colab": {}
      },
      "source": [
        "# Importing required libraries and its utilities\n",
        "import numpy as np\n",
        "\n",
        "np.random.seed(123)\n",
        "import tensorflow as tf\n",
        "\n",
        "tf.random.set_seed(123)\n",
        "import deepchem as dc\n",
        "from deepchem.molnet import load_tox21\n",
        "from deepchem.models.graph_models import GraphConvModel"
      ],
      "execution_count": 3,
      "outputs": []
    },
    {
      "cell_type": "code",
      "metadata": {
        "id": "lGg6EzZJbT-f",
        "colab_type": "code",
        "colab": {}
      },
      "source": [
        "# Tox21 is a part of Deepchem library\n",
        "# so we can convieniently download it using load_tox21 function\n",
        "tox21_tasks, tox21_datasets, transformers = load_tox21(featurizer='GraphConv')\n",
        "train_dataset, valid_dataset, test_dataset = tox21_datasets"
      ],
      "execution_count": 11,
      "outputs": []
    },
    {
      "cell_type": "code",
      "metadata": {
        "id": "FuCaMFR8chWD",
        "colab_type": "code",
        "colab": {}
      },
      "source": [
        "# Define metric for the model\n",
        "metric = dc.metrics.Metric(dc.metrics.roc_auc_score, \n",
        "                           np.mean, \n",
        "                           mode=\"classification\")\n"
      ],
      "execution_count": 12,
      "outputs": []
    },
    {
      "cell_type": "code",
      "metadata": {
        "id": "e6EF_v8Qc4nA",
        "colab_type": "code",
        "colab": {
          "base_uri": "https://localhost:8080/",
          "height": 104
        },
        "outputId": "90e12f4b-1312-4bc8-ebf1-6ec6491afc46"
      },
      "source": [
        "# Define and fit the model\n",
        "model = GraphConvModel(len(tox21_tasks), \n",
        "                       batch_size=32, \n",
        "                       mode='classification')\n",
        "print(\"Fitting the model\")\n",
        "model.fit(train_dataset, nb_epoch=10)\n"
      ],
      "execution_count": 13,
      "outputs": [
        {
          "output_type": "stream",
          "text": [
            "Fitting the model\n"
          ],
          "name": "stdout"
        },
        {
          "output_type": "stream",
          "text": [
            "/usr/local/lib/python3.6/dist-packages/tensorflow/python/framework/indexed_slices.py:432: UserWarning: Converting sparse IndexedSlices to a dense Tensor of unknown shape. This may consume a large amount of memory.\n",
            "  \"Converting sparse IndexedSlices to a dense Tensor of unknown shape. \"\n"
          ],
          "name": "stderr"
        },
        {
          "output_type": "execute_result",
          "data": {
            "text/plain": [
              "0.6921525955200195"
            ]
          },
          "metadata": {
            "tags": []
          },
          "execution_count": 13
        }
      ]
    },
    {
      "cell_type": "code",
      "metadata": {
        "id": "tdWnr7sHdVs8",
        "colab_type": "code",
        "colab": {
          "base_uri": "https://localhost:8080/",
          "height": 437
        },
        "outputId": "799a8071-6cce-41d8-fd0b-34e54ac3cec9"
      },
      "source": [
        "print(\"Evaluating model with ROC AUC\")\n",
        "train_scores = model.evaluate(train_dataset, [metric], transformers)\n",
        "valid_scores = model.evaluate(valid_dataset, [metric], transformers)"
      ],
      "execution_count": 14,
      "outputs": [
        {
          "output_type": "stream",
          "text": [
            "Evaluating model with ROC AUC\n"
          ],
          "name": "stdout"
        },
        {
          "output_type": "stream",
          "text": [
            "n_samples is a deprecated argument which is ignored.\n",
            "n_samples is a deprecated argument which is ignored.\n",
            "n_samples is a deprecated argument which is ignored.\n",
            "n_samples is a deprecated argument which is ignored.\n",
            "n_samples is a deprecated argument which is ignored.\n",
            "n_samples is a deprecated argument which is ignored.\n",
            "n_samples is a deprecated argument which is ignored.\n",
            "n_samples is a deprecated argument which is ignored.\n",
            "n_samples is a deprecated argument which is ignored.\n",
            "n_samples is a deprecated argument which is ignored.\n",
            "n_samples is a deprecated argument which is ignored.\n",
            "n_samples is a deprecated argument which is ignored.\n",
            "n_samples is a deprecated argument which is ignored.\n",
            "n_samples is a deprecated argument which is ignored.\n",
            "n_samples is a deprecated argument which is ignored.\n",
            "n_samples is a deprecated argument which is ignored.\n",
            "n_samples is a deprecated argument which is ignored.\n",
            "n_samples is a deprecated argument which is ignored.\n",
            "n_samples is a deprecated argument which is ignored.\n",
            "n_samples is a deprecated argument which is ignored.\n",
            "n_samples is a deprecated argument which is ignored.\n",
            "n_samples is a deprecated argument which is ignored.\n",
            "n_samples is a deprecated argument which is ignored.\n",
            "n_samples is a deprecated argument which is ignored.\n"
          ],
          "name": "stderr"
        }
      ]
    },
    {
      "cell_type": "code",
      "metadata": {
        "id": "pB4Hq-nqddVn",
        "colab_type": "code",
        "colab": {
          "base_uri": "https://localhost:8080/",
          "height": 84
        },
        "outputId": "718b1a04-3598-482a-dd81-39a98fd8afdf"
      },
      "source": [
        "print(\"Train scores\")\n",
        "print(train_scores)\n",
        "\n",
        "print(\"Validation scores\")\n",
        "print(valid_scores)"
      ],
      "execution_count": 15,
      "outputs": [
        {
          "output_type": "stream",
          "text": [
            "Train scores\n",
            "{'mean-roc_auc_score': 0.8822176428343625}\n",
            "Validation scores\n",
            "{'mean-roc_auc_score': 0.755539586957589}\n"
          ],
          "name": "stdout"
        }
      ]
    }
  ]
}